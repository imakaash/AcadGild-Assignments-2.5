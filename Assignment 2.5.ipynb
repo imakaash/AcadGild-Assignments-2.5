{
 "cells": [
  {
   "cell_type": "code",
   "execution_count": 1,
   "metadata": {},
   "outputs": [
    {
     "name": "stdout",
     "output_type": "stream",
     "text": [
      "Enter the number of words you want to add to the list 5\n",
      "Enter the word cat\n",
      "Enter the word dog\n",
      "Enter the word mat\n",
      "Enter the word human\n",
      "Enter the word people\n",
      "['cat', 'dog', 'mat', 'human', 'people']\n",
      "length of words:\n",
      "[3, 3, 3, 5, 6]\n"
     ]
    }
   ],
   "source": [
    "def lengthOfWord(word):\n",
    "    return len(word)       \n",
    "        \n",
    "inp = int(input(\"Enter the number of words you want to add to the list \"))\n",
    "inp_lst = []\n",
    "for i in range(inp):\n",
    "    word = input(\"Enter the word \")\n",
    "    inp_lst.append(word)\n",
    "\n",
    "print(inp_lst)\n",
    "print('length of words:')\n",
    "output = list(map(lengthOfWord, inp_lst))\n",
    "print(output)"
   ]
  },
  {
   "cell_type": "code",
   "execution_count": 11,
   "metadata": {},
   "outputs": [
    {
     "name": "stdout",
     "output_type": "stream",
     "text": [
      "Enter the character: A\n",
      "Vowel\n"
     ]
    }
   ],
   "source": [
    "def isVowel(character):\n",
    "    if character.upper() in 'AEIOU':\n",
    "        return True\n",
    "    return False\n",
    "inp = input(\"Enter the character: \")\n",
    "if len(inp)==1:\n",
    "    if isVowel(inp):\n",
    "        print(\"Vowel\")\n",
    "    else:\n",
    "        print(\"Not a vowel\")\n",
    "    \n",
    "else:\n",
    "    print(\"Enter a character only\")"
   ]
  },
  {
   "cell_type": "code",
   "execution_count": null,
   "metadata": {},
   "outputs": [],
   "source": []
  }
 ],
 "metadata": {
  "kernelspec": {
   "display_name": "Python 3",
   "language": "python",
   "name": "python3"
  },
  "language_info": {
   "codemirror_mode": {
    "name": "ipython",
    "version": 3
   },
   "file_extension": ".py",
   "mimetype": "text/x-python",
   "name": "python",
   "nbconvert_exporter": "python",
   "pygments_lexer": "ipython3",
   "version": "3.6.4"
  }
 },
 "nbformat": 4,
 "nbformat_minor": 2
}
